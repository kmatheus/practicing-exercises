{
  "cells": [
    {
      "cell_type": "markdown",
      "metadata": {
        "id": "view-in-github",
        "colab_type": "text"
      },
      "source": [
        "<a href=\"https://colab.research.google.com/github/kmatheus/practicing-exercises/blob/main/functions_tests.ipynb\" target=\"_parent\"><img src=\"https://colab.research.google.com/assets/colab-badge.svg\" alt=\"Open In Colab\"/></a>"
      ]
    },
    {
      "cell_type": "code",
      "source": [
        "# !pip install schedule\n",
        "import schedule\n",
        "import time\n",
        "from schedule import repeat, every\n",
        "\n",
        "@repeat(every().day.at(\"18:43\"))\n",
        "def task():\n",
        "  print(\"Executou!\")\n",
        "\n",
        "schedule.every().day.at(\"18:31\").do(task)"
      ],
      "metadata": {
        "id": "vaM0wR1CmyG4",
        "colab": {
          "base_uri": "https://localhost:8080/"
        },
        "outputId": "a37c4993-fb6a-4659-c715-fa45c3b7dc75"
      },
      "execution_count": null,
      "outputs": [
        {
          "output_type": "execute_result",
          "data": {
            "text/plain": [
              "Every 1 day at 18:31:00 do task() (last run: [never], next run: 2025-07-08 18:31:00)"
            ]
          },
          "metadata": {},
          "execution_count": 5
        }
      ]
    },
    {
      "cell_type": "code",
      "execution_count": null,
      "metadata": {
        "id": "XoxA-dc_Woc8",
        "colab": {
          "base_uri": "https://localhost:8080/"
        },
        "outputId": "f7c2909f-9b54-4a79-b4e5-e76336a6d782"
      },
      "outputs": [
        {
          "output_type": "stream",
          "name": "stdout",
          "text": [
            "joaqui1506\n"
          ]
        }
      ],
      "source": [
        "# Create login name (10 caracters)\n",
        "import re\n",
        "import unicodedata\n",
        "\n",
        "dt_nascimento = \"15-06-1998\"\n",
        "dt_nasc = str(dt_nascimento).replace(\"-\", \"\")\n",
        "nome_velho = \"Joaquim Gomes da silva\".replace(\" \", \"\").lower() #form.data.get('nome')\n",
        "\n",
        "# formatar \"nome_login\"\n",
        "nome_sem_acento = ''.join(ch for ch in unicodedata.normalize('NFKD', nome_velho)\n",
        "if not unicodedata.combining(ch))\n",
        "nome_reduzido = '{}'.format(nome_sem_acento[0:6]).strip()\n",
        "nome_login = (str(nome_reduzido) + str(dt_nasc[0:4]))\n",
        "\n",
        "print(nome_login)"
      ]
    },
    {
      "cell_type": "code",
      "source": [
        "\n",
        "y = ',dsd,sdsd,sss,eee,'\n",
        "x = set(map(str, y.split(\",\")))\n",
        "print(x)"
      ],
      "metadata": {
        "id": "lhzMWJOyGtKK",
        "colab": {
          "base_uri": "https://localhost:8080/"
        },
        "outputId": "3a68a014-1511-4ddd-a8d9-570441ddbd36"
      },
      "execution_count": null,
      "outputs": [
        {
          "output_type": "stream",
          "name": "stdout",
          "text": [
            "{'', 'sdsd', 'sss', 'eee', 'dsd'}\n"
          ]
        }
      ]
    },
    {
      "cell_type": "code",
      "source": [
        "# Listas para comparar\n",
        "contas_contabeis_inserido = \"1,2,3,4\"  # String separada por vírgula\n",
        "contas_contabeis_atual = [\"3\", \"2\", \"1\"]  # Lista de valores\n",
        "\n",
        "# Transformar a string em uma lista\n",
        "contas_contabeis_inserido_lista = contas_contabeis_inserido.split(\",\")\n",
        "\n",
        "# Comparar como conjuntos\n",
        "if not set(contas_contabeis_inserido_lista) == set(contas_contabeis_atual):\n",
        "    print(\"As listas são iguais.\")\n",
        "else:\n",
        "    print(\"As listas são diferentes.\")\n"
      ],
      "metadata": {
        "colab": {
          "base_uri": "https://localhost:8080/"
        },
        "id": "EKjcdL7LGpcO",
        "outputId": "81415734-1d0f-4f2a-ca65-44893a6ebd90"
      },
      "execution_count": null,
      "outputs": [
        {
          "output_type": "stream",
          "name": "stdout",
          "text": [
            "As listas são iguais.\n"
          ]
        }
      ]
    },
    {
      "cell_type": "code",
      "source": [
        "r = (5.0 / 100) * 180000.0\n",
        "#r = (float(\"1,5\".replace(\",\", \".\")) / 100) * float(\"180000,00\".replace(\",\", \".\"))\n",
        "print(r)"
      ],
      "metadata": {
        "colab": {
          "base_uri": "https://localhost:8080/"
        },
        "id": "BtHcP50gehht",
        "outputId": "6e7f2918-8f9c-4435-f7e5-6fd8f83dd616"
      },
      "execution_count": null,
      "outputs": [
        {
          "output_type": "stream",
          "name": "stdout",
          "text": [
            "9000.0\n"
          ]
        }
      ]
    },
    {
      "cell_type": "code",
      "source": [
        "x = \"A\"\n",
        "if (x in [\"O\", \"E\"]):\n",
        "  print(\"REGULAR E INTEGRAL\")\n",
        "else:\n",
        "  print(\"MODALIDADES E EXTRA\")"
      ],
      "metadata": {
        "colab": {
          "base_uri": "https://localhost:8080/"
        },
        "id": "4TJ0mZ-eokGU",
        "outputId": "c7b254d8-3b4a-4013-f1f3-f5e6aae39033"
      },
      "execution_count": null,
      "outputs": [
        {
          "output_type": "stream",
          "name": "stdout",
          "text": [
            "MODALIDADES E EXTRA\n"
          ]
        }
      ]
    },
    {
      "cell_type": "code",
      "source": [
        "tipos = 'D', 'P'\n",
        "# tipos = 'T', 'M', 'R', 'C', 'E', 'S', 'X', 'B'\n",
        "if 'D' in tipos or 'P' in tipos:\n",
        "    print(True)\n",
        "else:\n",
        "    print(False)\n"
      ],
      "metadata": {
        "colab": {
          "base_uri": "https://localhost:8080/"
        },
        "id": "yfeKoYHo69gP",
        "outputId": "9d699a4f-b55e-48cc-9529-9115016b8006"
      },
      "execution_count": null,
      "outputs": [
        {
          "output_type": "stream",
          "name": "stdout",
          "text": [
            "True\n"
          ]
        }
      ]
    },
    {
      "cell_type": "code",
      "source": [
        "if (p := input(\"Digite a senha:\")) == \"senha\":\n",
        "    print(\"Bem vindo\")\n",
        "else:\n",
        "  print('Senha incorreta!')"
      ],
      "metadata": {
        "colab": {
          "base_uri": "https://localhost:8080/"
        },
        "id": "-96SNA3d3JYg",
        "outputId": "8fd771c1-244c-4e40-ca09-8d256a182c73"
      },
      "execution_count": null,
      "outputs": [
        {
          "output_type": "stream",
          "name": "stdout",
          "text": [
            "Digite a senha:dsdsd\n",
            "Senha incorreta!\n"
          ]
        }
      ]
    },
    {
      "cell_type": "code",
      "source": [
        "from fastapi import FastAPI\n",
        "\n",
        "app = FastAPI()\n",
        "@app.get(\"/\")\n",
        "async def read_root():\n",
        "  return {\"message\": \"Olá, FastAPI!\"}"
      ],
      "metadata": {
        "id": "NUxuUNDU5aTk"
      },
      "execution_count": null,
      "outputs": []
    },
    {
      "cell_type": "code",
      "source": [
        "percentual_taxa = \"1.2\"\n",
        "vlr_pago = float(\"1000\")\n",
        "\n",
        "\n",
        "# Calculando vlr_taxa\n",
        "vlr_taxa = vlr_pago * (float(percentual_taxa) / 100)\n",
        "\n",
        "# Calculando vlr_conciliado\n",
        "vlr_conciliado = vlr_pago - vlr_taxa\n",
        "\n",
        "print(\"vlr_taxa:\", vlr_taxa)\n",
        "print(\"vlr_conciliado:\", vlr_conciliado)"
      ],
      "metadata": {
        "colab": {
          "base_uri": "https://localhost:8080/"
        },
        "id": "tey8QqKvTAzk",
        "outputId": "5cdb6a83-3c53-4532-8d66-fdf89ae8419a"
      },
      "execution_count": null,
      "outputs": [
        {
          "output_type": "stream",
          "name": "stdout",
          "text": [
            "vlr_taxa: 12.0\n",
            "vlr_conciliado: 988.0\n"
          ]
        }
      ]
    },
    {
      "cell_type": "code",
      "source": [
        "vlr_pago = 1000.0\n",
        "vlr_taxa = 1.22\n",
        "\n",
        "# Calculando o valor conciliado\n",
        "vlr_conciliado = float(vlr_pago) if vlr_taxa is None else float(vlr_pago - (vlr_pago * (float(vlr_taxa) / 100)))\n",
        "\n",
        "print(f\"vlr_conciliado: {vlr_conciliado}\")"
      ],
      "metadata": {
        "colab": {
          "base_uri": "https://localhost:8080/"
        },
        "id": "rVZhwJGirGXL",
        "outputId": "d3550c21-b9e8-4888-e0cd-0a0d166eeaa3"
      },
      "execution_count": null,
      "outputs": [
        {
          "output_type": "stream",
          "name": "stdout",
          "text": [
            "vlr_conciliado: 987.8\n"
          ]
        }
      ]
    },
    {
      "cell_type": "code",
      "source": [
        "MAX_DIGITS = 18  # Defina o número máximo de dígitos para o BigInt\n",
        "\n",
        "id_pessoa = \"1234\"\n",
        "custom_date = \"20230101\"\n",
        "\n",
        "id = (id_pessoa + custom_date)[:18]\n",
        "print(id)"
      ],
      "metadata": {
        "colab": {
          "base_uri": "https://localhost:8080/"
        },
        "id": "LvEdf3JmDC2Q",
        "outputId": "2d1f76b5-00a3-4e25-a461-0e3209b8d2af"
      },
      "execution_count": null,
      "outputs": [
        {
          "output_type": "stream",
          "name": "stdout",
          "text": [
            "123420230101\n"
          ]
        }
      ]
    },
    {
      "cell_type": "code",
      "source": [
        "lista = [\n",
        "    {'cfop': 212, 'outra_chave': 'valor1'},\n",
        "    {'cfop': 333, 'outra_chave': 'valor2'},\n",
        "    {'cfop': 333, 'outra_chave': 'valor3'},\n",
        "    {'cfop': 2322, 'outra_chave': 'valor4'}\n",
        "]\n",
        "\n",
        "# Verifica se a lista não está vazia antes de acessar o primeiro elemento\n",
        "if lista:\n",
        "    cfop = lista[0]['cfop']\n",
        "    print(cfop)\n",
        "else:\n",
        "    print(\"A lista está vazia.\")\n"
      ],
      "metadata": {
        "id": "g0cGsAOxa1uN",
        "outputId": "42fd9e93-4b03-43de-d594-1c4282b88f32",
        "colab": {
          "base_uri": "https://localhost:8080/"
        }
      },
      "execution_count": null,
      "outputs": [
        {
          "output_type": "stream",
          "name": "stdout",
          "text": [
            "212\n"
          ]
        }
      ]
    },
    {
      "cell_type": "code",
      "source": [
        "cnpj_cpf_destinatario = '3434355434334'\n",
        "if (len(cnpj_cpf_destinatario) <= 11):\n",
        "    nameTag = \"cpf_destinatario\"\n",
        "else:\n",
        "    nameTag = \"cnpj_destinatario\"\n",
        "\n",
        "nfe = {}\n",
        "nfe[nameTag] = 1\n",
        "print(nfe)"
      ],
      "metadata": {
        "colab": {
          "base_uri": "https://localhost:8080/"
        },
        "id": "zVcF6e87ix_7",
        "outputId": "b5d20ea3-af94-4821-ae06-8bd6dda945a5"
      },
      "execution_count": null,
      "outputs": [
        {
          "output_type": "stream",
          "name": "stdout",
          "text": [
            "{'cnpj_destinatario': 1}\n"
          ]
        }
      ]
    },
    {
      "cell_type": "code",
      "source": [
        "from datetime import datetime\n",
        "\n",
        "date = datetime.now().strftime('%Y%m%d%H%M%S')\n",
        "print(date)"
      ],
      "metadata": {
        "colab": {
          "base_uri": "https://localhost:8080/"
        },
        "id": "Aw-7RnwM7_57",
        "outputId": "60271b7d-abf2-4121-ac92-0c4608feb17d"
      },
      "execution_count": null,
      "outputs": [
        {
          "output_type": "stream",
          "name": "stdout",
          "text": [
            "20250708005016\n"
          ]
        }
      ]
    },
    {
      "cell_type": "code",
      "source": [
        "# Aplicar aspas simples em string com elementos concatenados por vírgula\n",
        "input = \"A,B,C,D,E,1,2,3\"\n",
        "output = ', '.join([f\"'{char}'\" for char in input.split(\",\")])\n",
        "print(output)"
      ],
      "metadata": {
        "colab": {
          "base_uri": "https://localhost:8080/"
        },
        "id": "nPBfIQv6tPTi",
        "outputId": "c787c716-3637-4925-d8df-55b33ff9f6d9"
      },
      "execution_count": null,
      "outputs": [
        {
          "output_type": "stream",
          "name": "stdout",
          "text": [
            "'A', 'B', 'C', 'D', 'E', '1', '2', '3'\n"
          ]
        }
      ]
    },
    {
      "cell_type": "code",
      "source": [
        "# Seu JSON\n",
        "data = [\n",
        "    {\n",
        "        \"id_remessa_enf_ctrl\": 14646092515572785,\n",
        "        \"cmunfg_ide\": \"5300108\",\n",
        "        # ... (restante do seu JSON)\n",
        "        \"xprod\": \"MENSALIDADE: 11299 Adriana Araújo Andrade - 9o Ano - A V GR - BOLETO: 7904673 - REFERENCIA: 9/2023 - FINALIDADE: Mensalidade Regular\",\n",
        "        # ... (restante do seu JSON)\n",
        "    },\n",
        "    {\n",
        "        \"id_remessa_enf_ctrl\": 14646092515572785,\n",
        "        \"cmunfg_ide\": \"5300108\",\n",
        "        # ... (restante do seu JSON)\n",
        "        \"xprod\": \"MENSALIDADE: 11299 Adriana Araújo Andrade - Sem Matrícula GR - BOLETO: 7904731 - REFERENCIA: 9/2023 - FINALIDADE: Material Didático\",\n",
        "        # ... (restante do seu JSON)\n",
        "    }\n",
        "]\n",
        "\n",
        "# Extrair valores da chave \"xprod\" e concatenar em uma string separada por vírgulas\n",
        "frase_xprod = \", \".join(item[\"xprod\"] for item in data)\n",
        "\n",
        "# Imprimir a frase resultante\n",
        "print(frase_xprod)"
      ],
      "metadata": {
        "colab": {
          "base_uri": "https://localhost:8080/"
        },
        "id": "87i7z6XMCqr5",
        "outputId": "b6d1740b-40c3-461a-8c3f-d4a4748f72d1"
      },
      "execution_count": null,
      "outputs": [
        {
          "output_type": "stream",
          "name": "stdout",
          "text": [
            "MENSALIDADE: 11299 Adriana Araújo Andrade - 9o Ano - A V GR - BOLETO: 7904673 - REFERENCIA: 9/2023 - FINALIDADE: Mensalidade Regular, MENSALIDADE: 11299 Adriana Araújo Andrade - Sem Matrícula GR - BOLETO: 7904731 - REFERENCIA: 9/2023 - FINALIDADE: Material Didático\n"
          ]
        }
      ]
    },
    {
      "cell_type": "code",
      "source": [
        "# Generate randon ID's\n",
        "import random\n",
        "import string\n",
        "import uuid\n",
        "\n",
        "def random_id():\n",
        "    characters = string.ascii_lowercase + string.digits  # Letras minúsculas e dígitos\n",
        "    random_chars = ''.join(random.choice(characters) for _ in range(32))  # Gere 5 caracteres aleatórios\n",
        "    return random_chars\n",
        "\n",
        "random_id()"
      ],
      "metadata": {
        "colab": {
          "base_uri": "https://localhost:8080/",
          "height": 36
        },
        "id": "k2eMDG3I0CZZ",
        "outputId": "1a134b96-01a2-47a1-831e-9e9821ce6423"
      },
      "execution_count": null,
      "outputs": [
        {
          "output_type": "execute_result",
          "data": {
            "text/plain": [
              "'p7mw6ywo4ek2hj9nxxjza12obghmep5l'"
            ],
            "application/vnd.google.colaboratory.intrinsic+json": {
              "type": "string"
            }
          },
          "metadata": {},
          "execution_count": 63
        }
      ]
    },
    {
      "cell_type": "code",
      "source": [
        "id = '1,2,4,8,7,3,,4,5,5,,4,4,54,,35,24,6,4,65,7,5,757,5,7,57'\n",
        "count = 0\n",
        "for x in id.split(\",\"):\n",
        "    count = count+1\n",
        "    if x:\n",
        "        idk = f\"S:{count}\"\n",
        "        print(idk)"
      ],
      "metadata": {
        "colab": {
          "base_uri": "https://localhost:8080/"
        },
        "id": "Y8BwdYLy4cyf",
        "outputId": "75b8aa42-c35b-4a30-f88f-14a79e42ecc4"
      },
      "execution_count": null,
      "outputs": [
        {
          "output_type": "stream",
          "name": "stdout",
          "text": [
            "S:1\n",
            "S:2\n",
            "S:3\n",
            "S:4\n",
            "S:5\n",
            "S:6\n",
            "S:8\n",
            "S:9\n",
            "S:10\n",
            "S:12\n",
            "S:13\n",
            "S:14\n",
            "S:16\n",
            "S:17\n",
            "S:18\n",
            "S:19\n",
            "S:20\n",
            "S:21\n",
            "S:22\n",
            "S:23\n",
            "S:24\n",
            "S:25\n",
            "S:26\n"
          ]
        }
      ]
    },
    {
      "cell_type": "code",
      "source": [
        "contador = 0\n",
        "n = 10\n",
        "\n",
        "for i in range(n):  # Usando 'range' para criar uma sequência de 0 a n-1\n",
        "    contador += 1    # Atualizando o contador a cada iteração\n",
        "contadores = contador  # O valor final do contador após o loop\n",
        "print(contadores)      # Imprimirá o valor final do contador\n"
      ],
      "metadata": {
        "id": "L669Cd0-0AV8",
        "outputId": "f63f05e1-a34d-4eb8-e35c-bb3c102ae2f7",
        "colab": {
          "base_uri": "https://localhost:8080/"
        }
      },
      "execution_count": null,
      "outputs": [
        {
          "output_type": "stream",
          "name": "stdout",
          "text": [
            "10\n"
          ]
        }
      ]
    },
    {
      "cell_type": "code",
      "source": [
        "import json\n",
        "\n",
        "data = \"{\\n  \\\"cnpj_emitente\\\": \\\"19867123000152\\\",\\n  \\\"ref\\\": \\\"51\\\",\\n  \\\"status\\\": \\\"cancelado\\\",\\n  \\\"status_sefaz\\\": \\\"135\\\",\\n  \\\"mensagem_sefaz\\\": \\\"Evento registrado e vinculado a NF-e\\\",\\n  \\\"numero\\\": \\\"3\\\",\\n  \\\"serie\\\": \\\"1\\\",\\n  \\\"chave_nfe\\\": \\\"NFe53230819867123000152550010000000031600290946\\\",\\n  \\\"caminho_xml_nota_fiscal\\\": \\\"/arquivos_development/19867123000152/202308/XMLs/53230819867123000152550010000000031600290946-nfe.xml\\\",\\n  \\\"caminho_danfe\\\": \\\"/arquivos_development/19867123000152/202308/DANFEs/53230819867123000152550010000000031600290946.pdf\\\",\\n  \\\"caminho_xml_cancelamento\\\": \\\"/arquivos_development/19867123000152/202308/XMLs/53230819867123000152550010000000031600290946-can.xml\\\",\\n  \\\"requisicao_cancelamento\\\": {\\n    \\\"versao\\\": \\\"1.00\\\",\\n    \\\"id_tag\\\": \\\"ID1101115323081986712300015255001000000003160029094601\\\",\\n    \\\"codigo_orgao\\\": \\\"53\\\",\\n    \\\"ambiente\\\": \\\"2\\\",\\n    \\\"cnpj\\\": \\\"19867123000152\\\",\\n    \\\"chave_nfe\\\": \\\"53230819867123000152550010000000031600290946\\\",\\n    \\\"data_evento\\\": \\\"2023-08-17T21:38:08-03:00\\\",\\n    \\\"tipo_evento\\\": \\\"110111\\\",\\n    \\\"numero_sequencial_evento\\\": \\\"1\\\",\\n    \\\"versao_evento\\\": \\\"1.00\\\",\\n    \\\"descricao_evento\\\": \\\"Cancelamento\\\",\\n    \\\"protocolo\\\": \\\"353230000055603\\\",\\n    \\\"justificativa\\\": \\\"Sua justificativa aqui!\\\"\\n  },\\n  \\\"protocolo_cancelamento\\\": {\\n    \\\"versao\\\": \\\"1.00\\\",\\n    \\\"ambiente\\\": \\\"2\\\",\\n    \\\"versao_aplicativo\\\": \\\"SVRS202305251555\\\",\\n    \\\"codigo_orgao\\\": \\\"53\\\",\\n    \\\"status\\\": \\\"135\\\",\\n    \\\"motivo\\\": \\\"Evento registrado e vinculado a NF-e\\\",\\n    \\\"chave_nfe\\\": \\\"53230819867123000152550010000000031600290946\\\",\\n    \\\"tipo_evento\\\": \\\"110111\\\",\\n    \\\"data_evento\\\": \\\"2023-08-17T21:38:09-03:00\\\",\\n    \\\"numero_protocolo\\\": \\\"353230000055605\\\"\\n  },\\n  \\\"requisicao_nota_fiscal\\\": {\\n    \\\"versao\\\": \\\"4.00\\\",\\n    \\\"chave_nfe\\\": \\\"NFe53230819867123000152550010000000031600290946\\\",\\n    \\\"uf\\\": \\\"53\\\",\\n    \\\"codigo_unico\\\": \\\"60029094\\\",\\n    \\\"natureza_operacao\\\": \\\"VENDA\\\",\\n    \\\"modelo\\\": \\\"55\\\",\\n    \\\"serie\\\": \\\"1\\\",\\n    \\\"numero\\\": \\\"3\\\",\\n    \\\"data_emissao\\\": \\\"2023-08-17T21:31:36-03:00\\\",\\n    \\\"tipo_documento\\\": \\\"1\\\",\\n    \\\"local_destino\\\": \\\"1\\\",\\n    \\\"municipio\\\": \\\"5300108\\\",\\n    \\\"formato_impressao\\\": \\\"1\\\",\\n    \\\"forma_emissao\\\": \\\"1\\\",\\n    \\\"digito_verificador\\\": \\\"6\\\",\\n    \\\"ambiente\\\": \\\"2\\\",\\n    \\\"finalidade_emissao\\\": \\\"1\\\",\\n    \\\"consumidor_final\\\": \\\"1\\\",\\n    \\\"presenca_comprador\\\": \\\"2\\\",\\n    \\\"indicador_intermediario\\\": \\\"0\\\",\\n    \\\"processo_emissao\\\": \\\"0\\\",\\n    \\\"versao_aplicativo\\\": \\\"0.1.0\\\",\\n    \\\"notas_referenciadas\\\": [\\n\\n    ],\\n    \\\"cnpj_emitente\\\": \\\"19867123000152\\\",\\n    \\\"nome_emitente\\\": \\\"CENTRO EDUCACIONAL \\u00c1GUAS CLARAS DF LTDA\\\",\\n    \\\"nome_fantasia_emitente\\\": \\\"COL\\u00c9GIO OBJETIVO DF - UNIDADE - II - \\u00c1GUAS CLARAS\\\",\\n    \\\"logradouro_emitente\\\": \\\"AVENIDA PAU BRASIL\\\",\\n    \\\"numero_emitente\\\": \\\"0\\\",\\n    \\\"complemento_emitente\\\": \\\"LOTE 02 SALAS DE AULA E TERREO\\\",\\n    \\\"bairro_emitente\\\": \\\"NORTE (\\u00c1GUAS CLARAS)\\\",\\n    \\\"codigo_municipio_emitente\\\": \\\"5300108\\\",\\n    \\\"municipio_emitente\\\": \\\"DISTRITO FEDERAL\\\",\\n    \\\"uf_emitente\\\": \\\"DF\\\",\\n    \\\"cep_emitente\\\": \\\"71916500\\\",\\n    \\\"codigo_pais_emitente\\\": \\\"1058\\\",\\n    \\\"pais_emitente\\\": \\\"Brasil\\\",\\n    \\\"telefone_emitente\\\": \\\"6137726500\\\",\\n    \\\"inscricao_estadual_emitente\\\": \\\"767442100111\\\",\\n    \\\"regime_tributario_emitente\\\": \\\"3\\\",\\n    \\\"cpf_destinatario\\\": \\\"80358292115\\\",\\n    \\\"nome_destinatario\\\": \\\"NF-E EMITIDA EM AMBIENTE DE HOMOLOGACAO - SEM VALOR FISCAL\\\",\\n    \\\"logradouro_destinatario\\\": \\\"GERAL DE BRAS\\u00cdLIA\\\",\\n    \\\"numero_destinatario\\\": \\\"0\\\",\\n    \\\"bairro_destinatario\\\": \\\"GERAL BRAS\\u00cdLIA\\\",\\n    \\\"codigo_municipio_destinatario\\\": \\\"5300108\\\",\\n    \\\"municipio_destinatario\\\": \\\"BRAS\\u00cdLIA\\\",\\n    \\\"uf_destinatario\\\": \\\"DF\\\",\\n    \\\"cep_destinatario\\\": \\\"71000000\\\",\\n    \\\"indicador_inscricao_estadual_destinatario\\\": \\\"9\\\",\\n    \\\"pessoas_autorizadas\\\": [\\n      {\\n        \\\"cnpj\\\": \\\"15597329000159\\\"\\n      }\\n    ],\\n    \\\"itens\\\": [\\n      {\\n        \\\"numero_item\\\": \\\"1\\\",\\n        \\\"codigo_produto\\\": \\\"CFOP5102\\\",\\n        \\\"codigo_barras_comercial\\\": \\\"SEM GTIN\\\",\\n        \\\"descricao\\\": \\\"MENSALIDADE REGULAR\\\",\\n        \\\"codigo_ncm\\\": \\\"00000000\\\",\\n        \\\"nves\\\": [\\n\\n        ],\\n        \\\"codigo_beneficio_fiscal\\\": \\\"DF811005\\\",\\n        \\\"cfop\\\": \\\"5102\\\",\\n        \\\"unidade_comercial\\\": \\\"UN\\\",\\n        \\\"quantidade_comercial\\\": \\\"1.0000\\\",\\n        \\\"valor_unitario_comercial\\\": \\\"1015.21\\\",\\n        \\\"valor_bruto\\\": \\\"1015.21\\\",\\n        \\\"codigo_barras_tributavel\\\": \\\"SEM GTIN\\\",\\n        \\\"unidade_tributavel\\\": \\\"UN\\\",\\n        \\\"quantidade_tributavel\\\": \\\"1.0000\\\",\\n        \\\"valor_unitario_tributavel\\\": \\\"1015.21\\\",\\n        \\\"inclui_no_total\\\": \\\"1\\\",\\n        \\\"documentos_importacao\\\": [\\n\\n        ],\\n        \\\"detalhes_exportacao\\\": [\\n\\n        ],\\n        \\\"rastros\\\": [\\n\\n        ],\\n        \\\"origens_combustivel\\\": [\\n\\n        ],\\n        \\\"valor_total_tributos\\\": \\\"262.43\\\",\\n        \\\"icms_percentual_partilha\\\": \\\"100.0000\\\",\\n        \\\"observacoes_contribuinte\\\": [\\n\\n        ],\\n        \\\"icms_origem\\\": \\\"0\\\",\\n        \\\"icms_situacao_tributaria\\\": \\\"41\\\",\\n        \\\"icms_valor_desonerado\\\": \\\"1015.21\\\",\\n        \\\"icms_motivo_desoneracao\\\": \\\"9\\\",\\n        \\\"pis_situacao_tributaria\\\": \\\"07\\\",\\n        \\\"cofins_situacao_tributaria\\\": \\\"07\\\"\\n      }\\n    ],\\n    \\\"icms_base_calculo\\\": \\\"0\\\",\\n    \\\"icms_valor_total\\\": \\\"0\\\",\\n    \\\"icms_valor_total_desonerado\\\": \\\"1015.21\\\",\\n    \\\"fcp_valor_total\\\": \\\"0\\\",\\n    \\\"icms_base_calculo_st\\\": \\\"0\\\",\\n    \\\"icms_valor_total_st\\\": \\\"0\\\",\\n    \\\"fcp_valor_total_st\\\": \\\"0\\\",\\n    \\\"fcp_valor_total_retido_st\\\": \\\"0\\\",\\n    \\\"valor_produtos\\\": \\\"1015.21\\\",\\n    \\\"valor_frete\\\": \\\"0\\\",\\n    \\\"valor_seguro\\\": \\\"0\\\",\\n    \\\"valor_desconto\\\": \\\"0\\\",\\n    \\\"valor_total_ii\\\": \\\"0\\\",\\n    \\\"valor_ipi\\\": \\\"0\\\",\\n    \\\"valor_ipi_devolvido\\\": \\\"0\\\",\\n    \\\"valor_pis\\\": \\\"0\\\",\\n    \\\"valor_cofins\\\": \\\"0\\\",\\n    \\\"valor_outras_despesas\\\": \\\"0\\\",\\n    \\\"valor_total\\\": \\\"0\\\",\\n    \\\"valor_total_tributos\\\": \\\"262.43\\\",\\n    \\\"modalidade_frete\\\": \\\"9\\\",\\n    \\\"reboques\\\": [\\n\\n    ],\\n    \\\"volumes\\\": [\\n\\n    ],\\n    \\\"duplicatas\\\": [\\n\\n    ],\\n    \\\"formas_pagamento\\\": [\\n      {\\n        \\\"forma_pagamento\\\": \\\"01\\\",\\n        \\\"valor_pagamento\\\": \\\"0\\\",\\n        \\\"tipo_integracao\\\": null\\n      }\\n    ],\\n    \\\"informacoes_adicionais_contribuinte\\\": \\\"Trib. aprox. R$: 79,69 Federal,  182,74 Estadual Fonte: IBPT/empresometro.com.br C07872 PROCON DF: PROCON DF: Ven\\u00e2ncio Shopping - Setor Comercial Sul, Quadra 08, Bloco B-60, Sala 240 - Brasilia - DF - CEP: 70.333-900 - Telefone: 151\\\",\\n    \\\"observacoes_contribuinte\\\": [\\n\\n    ],\\n    \\\"observacoes_fisco\\\": [\\n\\n    ],\\n    \\\"processos_referenciados\\\": [\\n\\n    ],\\n    \\\"cnpj_responsavel_tecnico\\\": \\\"07504505000132\\\",\\n    \\\"contato_responsavel_tecnico\\\": \\\"Ricardo Acras\\\",\\n    \\\"email_responsavel_tecnico\\\": \\\"contato@focusnfe.com.br\\\",\\n    \\\"telefone_responsavel_tecnico\\\": \\\"41991820810\\\"\\n  },\\n  \\\"protocolo_nota_fiscal\\\": {\\n    \\\"versao\\\": \\\"4.00\\\",\\n    \\\"ambiente\\\": \\\"2\\\",\\n    \\\"versao_aplicativo\\\": \\\"SVRS202308071501\\\",\\n    \\\"chave_nfe\\\": \\\"53230819867123000152550010000000031600290946\\\",\\n    \\\"data_recebimento\\\": \\\"2023-08-17T21:31:39-03:00\\\",\\n    \\\"numero_protocolo\\\": \\\"353230000055603\\\",\\n    \\\"digest_value\\\": \\\"rolEUt/KTUMBQJ7JPQOKtF//a1Y=\\\",\\n    \\\"status\\\": \\\"100\\\",\\n    \\\"motivo\\\": \\\"Autorizado o uso da NF-e\\\"\\n  }\\n}\"\n",
        "\n",
        "# Parse do JSON\n",
        "json_data = json.loads(data)\n",
        "\n",
        "# Acesso aos valores\n",
        "cnpj_emitente = json_data[\"cnpj_emitente\"]\n",
        "ref = json_data[\"ref\"]\n",
        "status = json_data[\"status\"]\n",
        "# ... e assim por diante, para os outros valores que você deseja extrair\n",
        "\n",
        "# Exemplo de impressão dos valores\n",
        "print(\"CNPJ Emitente:\", cnpj_emitente)\n",
        "print(\"Referência:\", ref)\n",
        "print(\"Status:\", status)\n",
        "# ... e assim por diante, para os outros valores\n"
      ],
      "metadata": {
        "colab": {
          "base_uri": "https://localhost:8080/"
        },
        "id": "wk3UaUqlcDIt",
        "outputId": "48f9f588-d3c3-4630-95c2-d676c1e9dd81"
      },
      "execution_count": null,
      "outputs": [
        {
          "output_type": "stream",
          "name": "stdout",
          "text": [
            "CNPJ Emitente: 19867123000152\n",
            "Referência: 51\n",
            "Status: cancelado\n"
          ]
        }
      ]
    },
    {
      "cell_type": "code",
      "source": [
        "from datetime import datetime\n",
        "\n",
        "today = datetime.now().strftime('%Y-%m-%dT%H:%M:%S')\n",
        "print(today)"
      ],
      "metadata": {
        "colab": {
          "base_uri": "https://localhost:8080/"
        },
        "id": "tVoiMF4V-SKx",
        "outputId": "ba8eeb49-c2e6-44a9-be2a-6e26b5234708"
      },
      "execution_count": null,
      "outputs": [
        {
          "output_type": "stream",
          "name": "stdout",
          "text": [
            "2025-07-08T01:01:10\n"
          ]
        }
      ]
    },
    {
      "cell_type": "code",
      "source": [
        "from datetime import datetime\n",
        "\n",
        "# Informações da NFe (CHAVE NFe)\n",
        "cnpj_emitente = '19867123000152'  # CNPJ do emitente\n",
        "modelo = '55'  # Modelo da NFe\n",
        "serie = '001'  # Série da NFe\n",
        "numero_nfe = '000001'  # Número da NFe\n",
        "data_emissao = datetime.now().strftime('%Y%m%d').replace('-','')  # Data de emissão da NFe\n",
        "chave_nfe = f\"{cnpj_emitente}{modelo}{serie}{numero_nfe}{data_emissao[2:6]}\"\n",
        "print(\"Chave da NFe:\", chave_nfe)"
      ],
      "metadata": {
        "colab": {
          "base_uri": "https://localhost:8080/"
        },
        "id": "U0Zvtg0eks4q",
        "outputId": "6e7d2397-1715-4110-843b-c13e11c235a1"
      },
      "execution_count": null,
      "outputs": [
        {
          "output_type": "stream",
          "name": "stdout",
          "text": [
            "Chave da NFe: 19867123000152550010000012507\n"
          ]
        }
      ]
    },
    {
      "cell_type": "code",
      "source": [
        "import random\n",
        "import string\n",
        "import sqlite3\n",
        "from datetime import datetime\n",
        "\n",
        "def generate_random_id(length):\n",
        "    characters = string.digits\n",
        "    return f\"{current_date}{int(''.join(random.choice(characters) for _ in range(length)))}\"\n",
        "\n",
        "def check_id_exists(db_connection, random_id):\n",
        "    cursor = db_connection.cursor()\n",
        "    cursor.execute(\"SELECT COUNT(*) FROM parcels WHERE id=?\", (random_id,))\n",
        "    count = cursor.fetchone()[0]\n",
        "    return count > 0\n",
        "\n",
        "current_date = datetime.now().strftime('%Y%m%d%H%M%S')[2:]\n",
        "length=4\n",
        "generate_random_id(length)"
      ],
      "metadata": {
        "colab": {
          "base_uri": "https://localhost:8080/",
          "height": 36
        },
        "id": "eAG94DJ3WuhM",
        "outputId": "807b126e-8e68-4047-cd98-b6244c640dee"
      },
      "execution_count": null,
      "outputs": [
        {
          "output_type": "execute_result",
          "data": {
            "text/plain": [
              "'2507080101449201'"
            ],
            "application/vnd.google.colaboratory.intrinsic+json": {
              "type": "string"
            }
          },
          "metadata": {},
          "execution_count": 70
        }
      ]
    },
    {
      "cell_type": "code",
      "source": [
        "dados = [\n",
        "    {'id_ct_rec_det': 232137463201, 'id_ct_rec_cab': 23213746320},\n",
        "    {'id_ct_rec_det': 232144223201, 'id_ct_rec_cab': 23214422320},\n",
        "    {'id_ct_rec_det': 232137463201, 'id_ct_rec_cab': 23213746320},\n",
        "    {'id_ct_rec_det': 232144223201, 'id_ct_rec_cab': 23214422320}\n",
        "]\n",
        "\n",
        "# Crie um conjunto para rastrear os IDs já encontrados\n",
        "ids_vistos = set()\n",
        "\n",
        "# Lista para armazenar os itens únicos\n",
        "dados_unicos = []\n",
        "\n",
        "# Itere sobre os dados\n",
        "for item in dados:\n",
        "    id_ct_rec_det = item['id_ct_rec_det']\n",
        "\n",
        "    # Verifique se o ID já foi visto, se não, adicione o item à lista de dados únicos e atualize o conjunto de IDs vistos\n",
        "    if id_ct_rec_det not in ids_vistos:\n",
        "        dados_unicos.append(item)\n",
        "        ids_vistos.add(id_ct_rec_det)\n",
        "\n",
        "print(dados_unicos)\n"
      ],
      "metadata": {
        "colab": {
          "base_uri": "https://localhost:8080/"
        },
        "id": "CEJG1Ck2woMd",
        "outputId": "02346be3-2d5d-4c6a-9e0f-bb6fbe54549b"
      },
      "execution_count": null,
      "outputs": [
        {
          "output_type": "stream",
          "name": "stdout",
          "text": [
            "[{'id_ct_rec_det': 232137463201, 'id_ct_rec_cab': 23213746320}, {'id_ct_rec_det': 232144223201, 'id_ct_rec_cab': 23214422320}]\n"
          ]
        }
      ]
    },
    {
      "cell_type": "code",
      "source": [
        "def sort_dictfetchall(object_list, name_key, asc_desc_order):\n",
        "  def get_value(object):\n",
        "      return object[name_key]\n",
        "  sorted_list = sorted(object_list, key=get_value, reverse=not asc_desc_order)\n",
        "  return sorted_list\n",
        "\n",
        "dados = [\n",
        "    {'id_ct_rec_det': 232137463201, 'id_ct_rec_cab': 23213746320, 'id_filial': 2, 'tp_comprador': 'F', 'id_comprador': 320, 'aluno_id': None, 'id_natureza': 11, 'status': 'P', 'origem': 'P', 'comprador': 'CUBO ESCOLAR TECNOLOGIA E SISTEMAS LTDA - 42.282.001/0001-16', 'dados_matricula': 'sem dados de matricula para esta conta', 'endereco': 'Setor Central - Avenida Goiás - Goiânia - GO - 74015200', 'contato': '( 62) 98302-0490 - email: MIALICHIJUNIOR@GMAIL.COM', 'aluno': None, 'documento': '', 'natureza': 'Recebimento mensalidade 3ª Série', 'emissao': datetime.date(2023, 8, 3), 'vlr_parcela': Decimal('200.00'), 'num_parcela': 1, 'dt_vcto': datetime.date(2023, 8, 3), 'vencido': 'Não', 'dias_atrazo': 0, 'vlr_multa': Decimal('0.00'), 'vlr_juros': Decimal('0.00'), 'vlr_mora': Decimal('0.00'), 'vlr_total': Decimal('200.00'), 'vlr_contrato': Decimal('200.00'), 'vlr_parcela_pontualidade': Decimal('0.00'), 'eh_vencido': False, 'id_tp_recebimento': 53, 'id_matricula': None, 'id_ctrec_hist_re': None, 'vlr_pago': 200.0, 'dt_movto': None, 'status_cab': 'A', 'id_conta_contabil': 25, 'usuario': None, 'id_usuario_bx_manual': 11, 'id_usuario_bx_auto': None, 'nr_duplicata': 4752, 'obs_movto': None},\n",
        "    {'id_ct_rec_det': 232144223201, 'id_ct_rec_cab': 23214422320, 'id_filial': 2, 'tp_comprador': 'F', 'id_comprador': 320, 'aluno_id': None, 'id_natureza': 11, 'status': 'A', 'origem': 'D', 'comprador': 'CUBO ESCOLAR TECNOLOGIA E SISTEMAS LTDA - 42.282.001/0001-16', 'dados_matricula': 'sem dados de matricula para esta conta', 'endereco': 'Setor Central - Avenida Goiás - Goiânia - GO - 74015200', 'contato': '( 62) 98302-0490 - email: MIALICHIJUNIOR@GMAIL.COM', 'aluno': None, 'documento': '5555', 'natureza': 'Recebimento mensalidade 3ª Série', 'emissao': datetime.date(2023, 8, 3), 'vlr_parcela': Decimal('450.00'), 'num_parcela': 1, 'dt_vcto': datetime.date(2023, 8, 3), 'vencido': 'Sim - 1 dias', 'dias_atrazo': 1, 'vlr_multa': Decimal('9.00'), 'vlr_juros': Decimal('0.15'), 'vlr_mora': Decimal('0.15'), 'vlr_total': Decimal('459.30'), 'vlr_contrato': Decimal('450.00'), 'vlr_parcela_pontualidade': Decimal('0.00'), 'eh_vencido': True, 'id_tp_recebimento': 8, 'id_matricula': None, 'id_ctrec_hist_re': None, 'vlr_pago': 0.0, 'dt_movto': None, 'status_cab': 'A', 'id_conta_contabil': 31, 'usuario': None, 'id_usuario_bx_manual': 11, 'id_usuario_bx_auto': None, 'nr_duplicata': 4753, 'obs_movto': None}\n",
        "]\n",
        "\n",
        "key = 'vlr_parcela'\n",
        "type_order = False\n",
        "print(sort_dictfetchall(dados, key, type_order))"
      ],
      "metadata": {
        "colab": {
          "base_uri": "https://localhost:8080/"
        },
        "id": "WzDLoBMN3kAG",
        "outputId": "482042a8-9bbe-4630-ac2b-eeb69ff5a07a"
      },
      "execution_count": null,
      "outputs": [
        {
          "output_type": "stream",
          "name": "stdout",
          "text": [
            "[{'id_ct_rec_det': 232144223201, 'id_ct_rec_cab': 23214422320, 'id_filial': 2, 'tp_comprador': 'F', 'id_comprador': 320, 'aluno_id': None, 'id_natureza': 11, 'status': 'A', 'origem': 'D', 'comprador': 'CUBO ESCOLAR TECNOLOGIA E SISTEMAS LTDA - 42.282.001/0001-16', 'dados_matricula': 'sem dados de matricula para esta conta', 'endereco': 'Setor Central - Avenida Goiás - Goiânia - GO - 74015200', 'contato': '( 62) 98302-0490 - email: MIALICHIJUNIOR@GMAIL.COM', 'aluno': None, 'documento': '5555', 'natureza': 'Recebimento mensalidade 3ª Série', 'emissao': datetime.date(2023, 8, 3), 'vlr_parcela': Decimal('450.00'), 'num_parcela': 1, 'dt_vcto': datetime.date(2023, 8, 3), 'vencido': 'Sim - 1 dias', 'dias_atrazo': 1, 'vlr_multa': Decimal('9.00'), 'vlr_juros': Decimal('0.15'), 'vlr_mora': Decimal('0.15'), 'vlr_total': Decimal('459.30'), 'vlr_contrato': Decimal('450.00'), 'vlr_parcela_pontualidade': Decimal('0.00'), 'eh_vencido': True, 'id_tp_recebimento': 8, 'id_matricula': None, 'id_ctrec_hist_re': None, 'vlr_pago': 0.0, 'dt_movto': None, 'status_cab': 'A', 'id_conta_contabil': 31, 'usuario': None, 'id_usuario_bx_manual': 11, 'id_usuario_bx_auto': None, 'nr_duplicata': 4753, 'obs_movto': None}, {'id_ct_rec_det': 232137463201, 'id_ct_rec_cab': 23213746320, 'id_filial': 2, 'tp_comprador': 'F', 'id_comprador': 320, 'aluno_id': None, 'id_natureza': 11, 'status': 'P', 'origem': 'P', 'comprador': 'CUBO ESCOLAR TECNOLOGIA E SISTEMAS LTDA - 42.282.001/0001-16', 'dados_matricula': 'sem dados de matricula para esta conta', 'endereco': 'Setor Central - Avenida Goiás - Goiânia - GO - 74015200', 'contato': '( 62) 98302-0490 - email: MIALICHIJUNIOR@GMAIL.COM', 'aluno': None, 'documento': '', 'natureza': 'Recebimento mensalidade 3ª Série', 'emissao': datetime.date(2023, 8, 3), 'vlr_parcela': Decimal('200.00'), 'num_parcela': 1, 'dt_vcto': datetime.date(2023, 8, 3), 'vencido': 'Não', 'dias_atrazo': 0, 'vlr_multa': Decimal('0.00'), 'vlr_juros': Decimal('0.00'), 'vlr_mora': Decimal('0.00'), 'vlr_total': Decimal('200.00'), 'vlr_contrato': Decimal('200.00'), 'vlr_parcela_pontualidade': Decimal('0.00'), 'eh_vencido': False, 'id_tp_recebimento': 53, 'id_matricula': None, 'id_ctrec_hist_re': None, 'vlr_pago': 200.0, 'dt_movto': None, 'status_cab': 'A', 'id_conta_contabil': 25, 'usuario': None, 'id_usuario_bx_manual': 11, 'id_usuario_bx_auto': None, 'nr_duplicata': 4752, 'obs_movto': None}]\n"
          ]
        }
      ]
    },
    {
      "cell_type": "code",
      "source": [
        "# Definindo o array de números\n",
        "array = [1000, 99.9, 101.1, 550.50, 450.50]\n",
        "# Usando a função sum() para calcular a soma dos valores do array\n",
        "soma = sum(array)\n",
        "v = 0\n",
        "for x in array:\n",
        "  v += x\n",
        "print(soma, v)"
      ],
      "metadata": {
        "colab": {
          "base_uri": "https://localhost:8080/"
        },
        "id": "q7Kw7dVNJrpC",
        "outputId": "89c2810a-2169-4593-8463-9eba4e4d3b05"
      },
      "execution_count": null,
      "outputs": [
        {
          "output_type": "stream",
          "name": "stdout",
          "text": [
            "2202.0 2202.0\n"
          ]
        }
      ]
    },
    {
      "cell_type": "code",
      "source": [
        "import re\n",
        "\n",
        "dados = \"(crd.dt_vcto >='2023-07-27' AND crd.dt_vcto <='2023-07-31', AND ccr.id_filial=12, AND crd.status='A', eh_vencido=TRUE)\"\n",
        "\n",
        "padrao = r'\\((.*?)\\)'\n",
        "resultado = re.findall(padrao, dados)\n",
        "\n",
        "if resultado:\n",
        "    conteudo_entre_parenteses = resultado[0]\n",
        "    print(conteudo_entre_parenteses)\n",
        "else:\n",
        "    print(\"Não foram encontrados parênteses no texto fornecido.\")\n"
      ],
      "metadata": {
        "colab": {
          "base_uri": "https://localhost:8080/"
        },
        "id": "RGM6Y3m4UJz_",
        "outputId": "7d5f9e80-5297-435a-a47d-41baab5e1955"
      },
      "execution_count": null,
      "outputs": [
        {
          "output_type": "stream",
          "name": "stdout",
          "text": [
            "crd.dt_vcto >='2023-07-27' AND crd.dt_vcto <='2023-07-31', AND ccr.id_filial=12, AND crd.status='A', eh_vencido=TRUE\n"
          ]
        }
      ]
    },
    {
      "cell_type": "code",
      "source": [
        "def format_mreais(v):\n",
        "        v = '{:,.2f}'.format(float(v))\n",
        "        v = v.replace(',','v')\n",
        "        v = v.replace('.',',')\n",
        "        return f\"R$ {v.replace('v','.')}\"\n",
        "\n",
        "v = 23750.89\n",
        "format_mreais(v)"
      ],
      "metadata": {
        "colab": {
          "base_uri": "https://localhost:8080/",
          "height": 36
        },
        "id": "7QbIgOeIhleF",
        "outputId": "24e1b40e-c094-46c3-9f38-7f4143a097fc"
      },
      "execution_count": null,
      "outputs": [
        {
          "output_type": "execute_result",
          "data": {
            "text/plain": [
              "'R$ 23.750,89'"
            ],
            "application/vnd.google.colaboratory.intrinsic+json": {
              "type": "string"
            }
          },
          "metadata": {},
          "execution_count": 77
        }
      ]
    },
    {
      "cell_type": "code",
      "source": [
        "from datetime import datetime\n",
        "\n",
        "today = datetime.now().strftime('%Y%H%M%S')[2:]\n",
        "print(today)"
      ],
      "metadata": {
        "colab": {
          "base_uri": "https://localhost:8080/"
        },
        "id": "eVgPp7iQPwU1",
        "outputId": "4bb43f96-f87d-4ef2-d758-d8da341e210e"
      },
      "execution_count": null,
      "outputs": [
        {
          "output_type": "stream",
          "name": "stdout",
          "text": [
            "23151940\n"
          ]
        }
      ]
    },
    {
      "cell_type": "code",
      "source": [
        "# GET FOR VALUE AND TRANSFORM IN PHRASE\n",
        "id_rec_cab_cancel = \"livros;material;escolar;mesa;cadeira;caderno;\"\n",
        "list_historico = []\n",
        "\n",
        "for parcela in id_rec_cab_cancel.split(\";\"):\n",
        "  print(parcela)\n",
        "  if parcela !='':\n",
        "    list_historico.append(parcela)\n",
        "    monta_historico = ' - '.join(list_historico)\n",
        "print(monta_historico)"
      ],
      "metadata": {
        "colab": {
          "base_uri": "https://localhost:8080/"
        },
        "id": "4oeRguzu6xQz",
        "outputId": "14ad2d7e-a509-4213-aaca-1b4927376988"
      },
      "execution_count": null,
      "outputs": [
        {
          "output_type": "stream",
          "name": "stdout",
          "text": [
            "livros\n",
            "material\n",
            "escolar\n",
            "mesa\n",
            "cadeira\n",
            "caderno\n",
            "\n",
            "livros - material - escolar - mesa - cadeira - caderno\n"
          ]
        }
      ]
    },
    {
      "cell_type": "code",
      "source": [
        "# CREATE ID IN FORMAT OF CODE\n",
        "from datetime import datetime\n",
        "id_comprador = 12345\n",
        "num_parcelas = 1\n",
        "today = datetime.now().strftime('%Y%m%d%H%M%S')[2:]\n",
        "idk = f\"{today}{id_comprador}{num_parcelas}\"\n",
        "print(idk)"
      ],
      "metadata": {
        "colab": {
          "base_uri": "https://localhost:8080/"
        },
        "id": "_wlxihUiq6Lz",
        "outputId": "456a046d-6858-4bcc-a975-aee079d35cca"
      },
      "execution_count": null,
      "outputs": [
        {
          "output_type": "stream",
          "name": "stdout",
          "text": [
            "230729152157123451\n"
          ]
        }
      ]
    },
    {
      "cell_type": "code",
      "source": [
        "# COMPARE IF ARRAY'S HAVE SAME VALUES\n",
        "array1 = [1, 2, 3, 4, 5]\n",
        "array2 = [1, 2, 3, 4, 5]\n",
        "\n",
        "if set(array1) == set(array2):\n",
        "    print(\"Os arrays têm os mesmos valores, independentemente da ordem.\")\n",
        "else:\n",
        "    print(\"Os arrays têm valores diferentes.\")"
      ],
      "metadata": {
        "colab": {
          "base_uri": "https://localhost:8080/"
        },
        "id": "mbhDZlIV_Guz",
        "outputId": "8a91cc84-0118-4449-8614-a3dae8c189fe"
      },
      "execution_count": null,
      "outputs": [
        {
          "output_type": "stream",
          "name": "stdout",
          "text": [
            "Os arrays têm os mesmos valores, independentemente da ordem.\n"
          ]
        }
      ]
    },
    {
      "cell_type": "code",
      "source": [
        "# TAKE THE FIRST AND LAST WORD IN A PHRASE\n",
        "nome_completo = \"Julia Campos Vasconcelos Lima\"\n",
        "nomes = nome_completo.split()\n",
        "first_name = nomes[0]\n",
        "last_name = nomes[-1]\n",
        "print(first_name, last_name)"
      ],
      "metadata": {
        "colab": {
          "base_uri": "https://localhost:8080/"
        },
        "id": "FmBOxA0ZttCr",
        "outputId": "5a9b63e1-1044-4a1e-c52c-e70a8b6b1912"
      },
      "execution_count": null,
      "outputs": [
        {
          "output_type": "stream",
          "name": "stdout",
          "text": [
            "Julia Lima\n"
          ]
        }
      ]
    },
    {
      "cell_type": "code",
      "source": [
        "# FORMAT DATE CURRENT\n",
        "from datetime import datetime\n",
        "\n",
        "data_hora = datetime.now()\n",
        "mes = data_hora.strftime('%d/%m/%Y')\n",
        "print(mes)"
      ],
      "metadata": {
        "colab": {
          "base_uri": "https://localhost:8080/"
        },
        "id": "sSnRQrk7q3Ip",
        "outputId": "568cc2c4-ef27-4b31-a241-161b8b766fb4"
      },
      "execution_count": null,
      "outputs": [
        {
          "output_type": "stream",
          "name": "stdout",
          "text": [
            "29/06/2023\n"
          ]
        }
      ]
    },
    {
      "cell_type": "code",
      "source": [
        "# TRANSFORM PHRASE IN LIST AND JOIN BY INDEX\n",
        "nome_completo = \"João Martins da Silva\"\n",
        "primeiro_nome, segundo_nome = nome_completo.split(\" \")[0:2]\n",
        "\n",
        "print(primeiro_nome)  # João\n",
        "print(segundo_nome)  # Martins"
      ],
      "metadata": {
        "colab": {
          "base_uri": "https://localhost:8080/"
        },
        "id": "0bfg3N5tPH-L",
        "outputId": "29705b77-a392-4047-8a10-2d7284f93b5c"
      },
      "execution_count": null,
      "outputs": [
        {
          "output_type": "stream",
          "name": "stdout",
          "text": [
            "João\n",
            "Martins\n"
          ]
        }
      ]
    }
  ],
  "metadata": {
    "colab": {
      "provenance": [],
      "authorship_tag": "ABX9TyMtDOwqrx83AAbpXV/XdVY1",
      "include_colab_link": true
    },
    "kernelspec": {
      "display_name": "Python 3",
      "name": "python3"
    },
    "language_info": {
      "name": "python"
    }
  },
  "nbformat": 4,
  "nbformat_minor": 0
}